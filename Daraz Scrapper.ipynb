{
 "cells": [
  {
   "cell_type": "code",
   "execution_count": 14,
   "id": "e181ab0a",
   "metadata": {},
   "outputs": [],
   "source": [
    "#Importing the necessary libraries\n",
    "import time\n",
    "import pandas as pd\n",
    "import nltk\n",
    "from selenium import webdriver\n",
    "from selenium.webdriver.chrome.options import Options\n",
    "from selenium.webdriver.common.keys import Keys\n",
    "from selenium.webdriver.common.by import By\n",
    "from selenium.common.exceptions import NoSuchElementException\n",
    "from selenium.common.exceptions import StaleElementReferenceException\n",
    "from selenium.webdriver.common.action_chains import ActionChains"
   ]
  },
  {
   "cell_type": "code",
   "execution_count": 22,
   "id": "7cd55b7e",
   "metadata": {},
   "outputs": [],
   "source": [
    "from selenium import webdriver\n",
    "from selenium.webdriver.chrome.service import Service as ChromeService\n",
    "from webdriver_manager.chrome import ChromeDriverManager\n",
    "\n",
    "driver = webdriver.Chrome(service=ChromeService(ChromeDriverManager().install()))"
   ]
  },
  {
   "cell_type": "code",
   "execution_count": 23,
   "id": "bb24e04a",
   "metadata": {},
   "outputs": [],
   "source": [
    "url = \"https://www.daraz.pk/\""
   ]
  },
  {
   "cell_type": "code",
   "execution_count": 24,
   "id": "1a0e69d9",
   "metadata": {},
   "outputs": [],
   "source": [
    "driver.get(url)"
   ]
  },
  {
   "cell_type": "code",
   "execution_count": 25,
   "id": "2c559883",
   "metadata": {},
   "outputs": [],
   "source": [
    "search_bar = driver.find_element(By.XPATH, '/html/body/div[1]/div/div/div[1]/div/div/div[2]/div/div[2]/form/div/div[1]/input[1]')\n",
    "search_bar.send_keys('Redmi 10 C' + Keys.RETURN)"
   ]
  },
  {
   "cell_type": "code",
   "execution_count": null,
   "id": "5ad6b72c",
   "metadata": {},
   "outputs": [],
   "source": [
    "Grids = driver.find_elements(By.CLASS_NAME,\"box--ujueT\")\n",
    "for Grid in Grids:\n",
    "    Small_Grids = Grid.find_elements(By.CLASS_NAME,\"gridItem--Yd0sa\")\n",
    "\n",
    "Data = {\n",
    "    \"Product Title\": {},\n",
    "    \"Price\": {},\n",
    "    \"Rating\": {},\n",
    "    \"Rate\": {},\n",
    "    \"Seller Rating\": {},\n",
    "    \"Specifications\": {},\n",
    "    \"Link\" : {}\n",
    "}\n",
    "\n",
    "Review1 = []\n",
    "i = 1\n",
    "while(i<4):\n",
    "    for i,Small_Grid in enumerate(Small_Grids):\n",
    "        Link = Small_Grid.find_element(By.TAG_NAME,\"a\").get_attribute(\"href\")\n",
    "        time.sleep(2)\n",
    "        driver.execute_script(f\"window.open('{Link}', '_blank');\")\n",
    "        time.sleep(2)\n",
    "        handles = driver.window_handles\n",
    "        new_window = handles[-1]\n",
    "        driver.switch_to.window(new_window)\n",
    "        Data[\"Product Title\"][i] = driver.find_element(By.XPATH,\"/html/body/div[4]/div/div[3]/div[2]/div/div[1]/div[3]/div/div/span\").text\n",
    "        Data[\"Price\"][i] = driver.find_element(By.XPATH,\"/html/body/div[4]/div/div[3]/div[2]/div/div[1]/div[7]/div/div/span\").text\n",
    "        Data[\"Rating\"][i] = driver.find_element(By.XPATH,\"/html/body/div[4]/div/div[3]/div[2]/div/div[1]/div[4]/div[1]/div/div/a\").text\n",
    "        try:\n",
    "            Data[\"Rate\"][i] = driver.find_element(By.XPATH,\"/html/body/div[4]/div/div[9]/div[1]/div[1]/div/div/div/div[2]/div[1]/div[1]/div[1]/span\").text\n",
    "        except NoSuchElementException:\n",
    "            Data[\"Rate\"][i] = 0\n",
    "        Data[\"Seller Rating\"][i] = driver.find_element(By.XPATH,\"/html/body/div[4]/div/div[3]/div[2]/div/div[2]/div[5]/div/div[2]/div[1]/div[2]\").text\n",
    "        Data[\"Specifications\"][i] = driver.find_element(By.XPATH,\"/html/body/div[4]/div/div[9]/div[1]/div[2]/div/div/div[1]/div[1]/ul/li\").text\n",
    "        Data[\"Link\"][i] = Link\n",
    "        driver.execute_script(\"window.scrollTo(0, 500);\")\n",
    "        time.sleep(1)\n",
    "        driver.execute_script(\"window.scrollTo(500, 800);\")\n",
    "        time.sleep(1)\n",
    "        driver.execute_script(\"window.scrollTo(800, 1000);\")\n",
    "        time.sleep(2)\n",
    "        driver.execute_script(\"window.scrollTo(1000, 1300);\")\n",
    "        time.sleep(2)\n",
    "        try:\n",
    "            Reviews = driver.find_elements(By.CLASS_NAME, \"review-content\")\n",
    "            product_reviews = []\n",
    "            for Review in Reviews:\n",
    "                Review_container = Review.find_elements(By.CLASS_NAME, \"review-item\")\n",
    "                for x in Review_container:\n",
    "                    try:\n",
    "                        data = x.find_element(By.CLASS_NAME, \"review-content-sl\").text\n",
    "                        product_reviews.append(data)\n",
    "                    except NoSuchElementException:\n",
    "                        product_reviews.append(\"No Reviews\")\n",
    "        except NoSuchElementException:\n",
    "            product_reviews.append(\"No Reviews\")\n",
    "        Review1.append(product_reviews)\n",
    "        driver.close()\n",
    "        original_window = handles[0]\n",
    "        driver.switch_to.window(original_window)\n",
    "        \n",
    "    \n",
    "    driver.execute_script(\"window.scrollTo(0, document.body.scrollHeight)\")\n",
    "    time.sleep(2)\n",
    "\n",
    "    next_page_button = driver.find_element(By.XPATH, \"/html/body/div[3]/div/div[3]/div/div/div[1]/div[3]/div[2]/div/ul/li[9]/a\")\n",
    "    next_page_button.click()\n",
    "    i= i+1\n",
    "\n",
    "   \n",
    "    time.sleep(2)   \n",
    "    "
   ]
  },
  {
   "cell_type": "code",
   "execution_count": null,
   "id": "c2d885c9",
   "metadata": {},
   "outputs": [],
   "source": [
    "driver.quit()"
   ]
  },
  {
   "cell_type": "code",
   "execution_count": null,
   "id": "1710d7af",
   "metadata": {
    "scrolled": true
   },
   "outputs": [],
   "source": [
    "df = pd.DataFrame(Data)\n",
    "df"
   ]
  },
  {
   "cell_type": "code",
   "execution_count": null,
   "id": "50c2a20b",
   "metadata": {
    "scrolled": true
   },
   "outputs": [],
   "source": [
    "df1 = pd.DataFrame(Review1)\n",
    "df1"
   ]
  },
  {
   "cell_type": "code",
   "execution_count": null,
   "id": "ae7bcd22",
   "metadata": {},
   "outputs": [],
   "source": [
    "result = pd.concat([df, df1], axis=1)\n",
    "result"
   ]
  },
  {
   "cell_type": "code",
   "execution_count": 63,
   "id": "1f60c81f",
   "metadata": {},
   "outputs": [],
   "source": [
    "result.to_csv(\"New_Data7.csv\")"
   ]
  },
  {
   "cell_type": "code",
   "execution_count": 64,
   "id": "01442035",
   "metadata": {},
   "outputs": [],
   "source": []
  }
 ],
 "metadata": {
  "kernelspec": {
   "display_name": "Python 3 (ipykernel)",
   "language": "python",
   "name": "python3"
  },
  "language_info": {
   "codemirror_mode": {
    "name": "ipython",
    "version": 3
   },
   "file_extension": ".py",
   "mimetype": "text/x-python",
   "name": "python",
   "nbconvert_exporter": "python",
   "pygments_lexer": "ipython3",
   "version": "3.11.9"
  }
 },
 "nbformat": 4,
 "nbformat_minor": 5
}
